{
 "cells": [
  {
   "cell_type": "markdown",
   "metadata": {},
   "source": [
    "EXERCISE 1. The hourly wages in a particular industry are normally distributed with mean $13.20 and standard deviation $2.50. A company in this industry employs 40 workers, paying them an average of $12.20 per hour. Can this company be accused of paying substandard wages? Use an α = .01 level test. (Wackerly, Ex.10.18)\n",
    "\n",
    "CHECK: statistic: -2.5298221281347035, pvalue= 0.005706018193000826\n",
    "\n",
    "EXERCISE 2.Shear strength measurements derived from unconfined compression tests for two types of soils gave the results shown in the following document (measurements in tons per square foot). Do the soils appear to differ with respect to average shear strength, at the 1% significance level?\n",
    "\n",
    "Results for two type of soils\n",
    "\n",
    "CHECK: statistic: 5.1681473319343345, pvalue= 2.593228732352821e-06\n",
    "\n",
    "EXERCISE 3. The following dataset is based on data provided by the World Bank (https://datacatalog.worldbank.org/dataset/education-statistics). World Bank Edstats.  2015 PISA Test Dataset\n",
    "\n",
    "Get descriptive statistics (the central tendency, dispersion and shape of a dataset’s distribution) for each continent group (AS, EU, AF, NA, SA, OC).\n",
    "Determine whether there is any difference (on the average) for the math scores among European (EU) and Asian (AS) countries (assume normality and equal variances). Draw side-by-side box plots.\n",
    "CHECK: statistic=0.870055317967983, pvalue=0.38826888111307345\n",
    "EXERCISE 4.The sample dataset has placement test scores (out of 100 points) for four subject areas: English, Reading, Math, and Writing. Students in the sample completed all 4 placement tests when they enrolled in the university. Suppose we are particularly interested in the English and Math sections, and want to determine whether students tended to score higher on their English or Math test, on average. We could use a paired t test to test if there was a significant difference in the average of the two tests.\n",
    "\n",
    "Sample Dataset 2014\n",
    "\n",
    "CHECK: statistic=36.312568981719856, pvalue=3.0710987192210606e-128"
   ]
  },
  {
   "cell_type": "code",
   "execution_count": 135,
   "metadata": {},
   "outputs": [],
   "source": [
    "import pandas as pd\n",
    "import numpy as np\n",
    "from scipy import stats\n",
    "import seaborn as sns\n",
    "import matplotlib as plt"
   ]
  },
  {
   "cell_type": "markdown",
   "metadata": {},
   "source": [
    "EXERCISE 1. The hourly wages in a particular industry are normally distributed with mean $13.20 and standard deviation $2.50. A company in this industry employs 40 workers, paying them an average of $12.20 per hour. Can this company be accused of paying substandard wages? Use an α = .01 level test. (Wackerly, Ex.10.18)"
   ]
  },
  {
   "cell_type": "code",
   "execution_count": 10,
   "metadata": {},
   "outputs": [],
   "source": [
    "# H0: mu = 13.20\n",
    "# H1: mu < 13.20\n",
    "a = .01"
   ]
  },
  {
   "cell_type": "markdown",
   "metadata": {},
   "source": [
    "# Calculate the test statistic\n",
    "t_test = (xbar - 109)/(s/np.sqrt(df.shape[0]))\n",
    "#test statistic\n",
    "t_test\n",
    "0.8971529586323553\n",
    "# Calculate p-value\n",
    "1 - stats.t.cdf(t_test, 39)\n",
    "0.18757115929257173\n",
    "# Use stats.ttest_1samp() to calculate the test statistic and p-value\n",
    "oneSamp = stats.ttest_1samp(df.VIQ, 109, alternative=\"greater\")\n",
    "oneSamp\n",
    "Ttest_1sampResult(statistic=0.897152958632355, pvalue=0.1875711592925718)\n",
    "#Display p-value\n",
    "oneSamp.pvalue\n",
    "0.1875711592925718\n",
    "# Compare p-value and alpha\n",
    "alpha = 0.05\n",
    "\n",
    "if oneSamp.pvalue < alpha:\n",
    "    print(\"Reject the null\")\n",
    "else:\n",
    "    print(\"Fail to reject the null\")"
   ]
  },
  {
   "cell_type": "code",
   "execution_count": 4,
   "metadata": {},
   "outputs": [],
   "source": [
    "x_bar = 12.20\n",
    "std = 2.5\n",
    "sample = 40"
   ]
  },
  {
   "cell_type": "code",
   "execution_count": 7,
   "metadata": {},
   "outputs": [
    {
     "data": {
      "text/plain": [
       "-2.5298221281347035"
      ]
     },
     "execution_count": 7,
     "metadata": {},
     "output_type": "execute_result"
    }
   ],
   "source": [
    "t_test = (x_bar - 13.20)/(std/np.sqrt(sample))\n",
    "t_test"
   ]
  },
  {
   "cell_type": "code",
   "execution_count": 24,
   "metadata": {},
   "outputs": [
    {
     "data": {
      "text/plain": [
       "0.005706018193000826"
      ]
     },
     "execution_count": 24,
     "metadata": {},
     "output_type": "execute_result"
    }
   ],
   "source": [
    "oneSamp = stats.norm.cdf(t_test)\n",
    "oneSamp"
   ]
  },
  {
   "cell_type": "code",
   "execution_count": 25,
   "metadata": {},
   "outputs": [
    {
     "name": "stdout",
     "output_type": "stream",
     "text": [
      "Reject the null\n"
     ]
    }
   ],
   "source": [
    "alpha = 0.01\n",
    "if oneSamp < alpha:\n",
    "    print(\"Reject the null\")\n",
    "else:\n",
    "    print(\"Fail to reject the null\")"
   ]
  },
  {
   "cell_type": "markdown",
   "metadata": {},
   "source": [
    "EXERCISE 2.Shear strength measurements derived from unconfined compression tests for two types of soils gave the results shown in the following document (measurements in tons per square foot). Do the soils appear to differ with respect to average shear strength, at the 1% significance level?\n",
    "\n",
    "Results for two type of soils\n",
    "\n",
    "CHECK: statistic: 5.1681473319343345, pvalue= 2.593228732352821e-06"
   ]
  },
  {
   "cell_type": "code",
   "execution_count": 31,
   "metadata": {},
   "outputs": [],
   "source": [
    "# H0: mu1 = mu2\n",
    "# H1: mu1 != mu2"
   ]
  },
  {
   "cell_type": "code",
   "execution_count": 227,
   "metadata": {},
   "outputs": [],
   "source": [
    "df = pd.read_csv(\"soil - Sheet1.csv\", encoding=\"utf-8\")"
   ]
  },
  {
   "cell_type": "code",
   "execution_count": 84,
   "metadata": {},
   "outputs": [
    {
     "data": {
      "text/html": [
       "<div>\n",
       "<style scoped>\n",
       "    .dataframe tbody tr th:only-of-type {\n",
       "        vertical-align: middle;\n",
       "    }\n",
       "\n",
       "    .dataframe tbody tr th {\n",
       "        vertical-align: top;\n",
       "    }\n",
       "\n",
       "    .dataframe thead th {\n",
       "        text-align: right;\n",
       "    }\n",
       "</style>\n",
       "<table border=\"1\" class=\"dataframe\">\n",
       "  <thead>\n",
       "    <tr style=\"text-align: right;\">\n",
       "      <th></th>\n",
       "      <th>Soil1</th>\n",
       "      <th>Soil2</th>\n",
       "    </tr>\n",
       "  </thead>\n",
       "  <tbody>\n",
       "    <tr>\n",
       "      <th>0</th>\n",
       "      <td>1.442</td>\n",
       "      <td>1.364</td>\n",
       "    </tr>\n",
       "    <tr>\n",
       "      <th>1</th>\n",
       "      <td>1.943</td>\n",
       "      <td>1.878</td>\n",
       "    </tr>\n",
       "    <tr>\n",
       "      <th>2</th>\n",
       "      <td>1.110</td>\n",
       "      <td>1.337</td>\n",
       "    </tr>\n",
       "    <tr>\n",
       "      <th>3</th>\n",
       "      <td>1.912</td>\n",
       "      <td>1.828</td>\n",
       "    </tr>\n",
       "    <tr>\n",
       "      <th>4</th>\n",
       "      <td>1.553</td>\n",
       "      <td>1.371</td>\n",
       "    </tr>\n",
       "  </tbody>\n",
       "</table>\n",
       "</div>"
      ],
      "text/plain": [
       "   Soil1  Soil2\n",
       "0  1.442  1.364\n",
       "1  1.943  1.878\n",
       "2  1.110  1.337\n",
       "3  1.912  1.828\n",
       "4  1.553  1.371"
      ]
     },
     "execution_count": 84,
     "metadata": {},
     "output_type": "execute_result"
    }
   ],
   "source": [
    "df.head()"
   ]
  },
  {
   "cell_type": "markdown",
   "metadata": {},
   "source": [
    "---"
   ]
  },
  {
   "cell_type": "code",
   "execution_count": 41,
   "metadata": {},
   "outputs": [],
   "source": [
    "# the series are not same length \n",
    "# data is cleaned to make its series same length"
   ]
  },
  {
   "cell_type": "code",
   "execution_count": 211,
   "metadata": {},
   "outputs": [
    {
     "data": {
      "text/plain": [
       "Soil1    5\n",
       "Soil2    0\n",
       "dtype: int64"
      ]
     },
     "execution_count": 211,
     "metadata": {},
     "output_type": "execute_result"
    }
   ],
   "source": [
    "df.isnull().sum()"
   ]
  },
  {
   "cell_type": "code",
   "execution_count": 137,
   "metadata": {},
   "outputs": [
    {
     "name": "stderr",
     "output_type": "stream",
     "text": [
      "C:\\Users\\gurka\\AppData\\Local\\Programs\\Python\\Python39\\lib\\site-packages\\seaborn\\_decorators.py:36: FutureWarning: Pass the following variable as a keyword arg: x. From version 0.12, the only valid positional argument will be `data`, and passing other arguments without an explicit keyword will result in an error or misinterpretation.\n",
      "  warnings.warn(\n"
     ]
    },
    {
     "data": {
      "text/plain": [
       "<AxesSubplot:xlabel='Soil2'>"
      ]
     },
     "execution_count": 137,
     "metadata": {},
     "output_type": "execute_result"
    },
    {
     "data": {
      "image/png": "[encoded data removed]",
      "text/plain": [
       "<Figure size 432x288 with 1 Axes>"
      ]
     },
     "metadata": {
      "needs_background": "light"
     },
     "output_type": "display_data"
    }
   ],
   "source": [
    "sns.boxplot(df.Soil2)"
   ]
  },
  {
   "cell_type": "code",
   "execution_count": 230,
   "metadata": {},
   "outputs": [],
   "source": [
    "# NaN values are assigned as median of the Series\n",
    "df.Soil1[df.Soil1.isna() == True] = df.Soil1.median()"
   ]
  },
  {
   "cell_type": "code",
   "execution_count": 218,
   "metadata": {},
   "outputs": [
    {
     "data": {
      "text/plain": [
       "Soil1    0\n",
       "Soil2    0\n",
       "dtype: int64"
      ]
     },
     "execution_count": 218,
     "metadata": {},
     "output_type": "execute_result"
    }
   ],
   "source": [
    "df.isnull().sum()"
   ]
  },
  {
   "cell_type": "code",
   "execution_count": 229,
   "metadata": {},
   "outputs": [
    {
     "data": {
      "text/plain": [
       "1.6918000000000002"
      ]
     },
     "execution_count": 229,
     "metadata": {},
     "output_type": "execute_result"
    }
   ],
   "source": [
    "df.Soil1.mean()"
   ]
  },
  {
   "cell_type": "markdown",
   "metadata": {},
   "source": [
    "---"
   ]
  },
  {
   "cell_type": "code",
   "execution_count": 233,
   "metadata": {},
   "outputs": [
    {
     "name": "stdout",
     "output_type": "stream",
     "text": [
      "1.6893999999999998\n",
      "1.4171142857142855\n"
     ]
    }
   ],
   "source": [
    "print(df.Soil1.mean())\n",
    "print(df.Soil2.mean())"
   ]
  },
  {
   "cell_type": "code",
   "execution_count": 232,
   "metadata": {},
   "outputs": [
    {
     "data": {
      "text/plain": [
       "Ttest_indResult(statistic=5.538568843188105, pvalue=5.334774760912842e-07)"
      ]
     },
     "execution_count": 232,
     "metadata": {},
     "output_type": "execute_result"
    }
   ],
   "source": [
    "indTest = stats.ttest_ind(df.Soil1, df.Soil2, equal_var = True,)\n",
    "indTest "
   ]
  },
  {
   "cell_type": "markdown",
   "metadata": {},
   "source": [
    "EXERCISE 3. The following dataset is based on data provided by the World Bank (https://datacatalog.worldbank.org/dataset/education-statistics). World Bank Edstats.  2015 PISA Test Dataset\n",
    "\n",
    "Get descriptive statistics (the central tendency, dispersion and shape of a dataset’s distribution) for each continent group (AS, EU, AF, NA, SA, OC).\n",
    "Determine whether there is any difference (on the average) for the math scores among European (EU) and Asian (AS) countries (assume normality and equal variances). Draw side-by-side box plots.\n",
    "\n",
    "CHECK: statistic=0.870055317967983, pvalue=0.38826888111307345"
   ]
  },
  {
   "cell_type": "code",
   "execution_count": 259,
   "metadata": {},
   "outputs": [],
   "source": [
    "e_3 = pd.read_csv(\"2015 PISA Test - Sheet1.csv\", encoding=\"utf-8\")"
   ]
  },
  {
   "cell_type": "code",
   "execution_count": 235,
   "metadata": {},
   "outputs": [
    {
     "data": {
      "text/html": [
       "<div>\n",
       "<style scoped>\n",
       "    .dataframe tbody tr th:only-of-type {\n",
       "        vertical-align: middle;\n",
       "    }\n",
       "\n",
       "    .dataframe tbody tr th {\n",
       "        vertical-align: top;\n",
       "    }\n",
       "\n",
       "    .dataframe thead th {\n",
       "        text-align: right;\n",
       "    }\n",
       "</style>\n",
       "<table border=\"1\" class=\"dataframe\">\n",
       "  <thead>\n",
       "    <tr style=\"text-align: right;\">\n",
       "      <th></th>\n",
       "      <th>Country Code</th>\n",
       "      <th>Continent_Code</th>\n",
       "      <th>internet_users_per_100</th>\n",
       "      <th>Math</th>\n",
       "      <th>Reading</th>\n",
       "      <th>Science</th>\n",
       "    </tr>\n",
       "  </thead>\n",
       "  <tbody>\n",
       "    <tr>\n",
       "      <th>0</th>\n",
       "      <td>ALB</td>\n",
       "      <td>EU</td>\n",
       "      <td>63.252933</td>\n",
       "      <td>413.1570</td>\n",
       "      <td>405.2588</td>\n",
       "      <td>427.2250</td>\n",
       "    </tr>\n",
       "    <tr>\n",
       "      <th>1</th>\n",
       "      <td>ARE</td>\n",
       "      <td>AS</td>\n",
       "      <td>90.500000</td>\n",
       "      <td>427.4827</td>\n",
       "      <td>433.5423</td>\n",
       "      <td>436.7311</td>\n",
       "    </tr>\n",
       "    <tr>\n",
       "      <th>2</th>\n",
       "      <td>ARG</td>\n",
       "      <td>SA</td>\n",
       "      <td>68.043064</td>\n",
       "      <td>409.0333</td>\n",
       "      <td>425.3031</td>\n",
       "      <td>432.2262</td>\n",
       "    </tr>\n",
       "    <tr>\n",
       "      <th>3</th>\n",
       "      <td>AUS</td>\n",
       "      <td>OC</td>\n",
       "      <td>84.560519</td>\n",
       "      <td>493.8962</td>\n",
       "      <td>502.9006</td>\n",
       "      <td>509.9939</td>\n",
       "    </tr>\n",
       "    <tr>\n",
       "      <th>4</th>\n",
       "      <td>AUT</td>\n",
       "      <td>EU</td>\n",
       "      <td>83.940142</td>\n",
       "      <td>496.7423</td>\n",
       "      <td>484.8656</td>\n",
       "      <td>495.0375</td>\n",
       "    </tr>\n",
       "  </tbody>\n",
       "</table>\n",
       "</div>"
      ],
      "text/plain": [
       "  Country Code Continent_Code  internet_users_per_100      Math   Reading  \\\n",
       "0          ALB             EU               63.252933  413.1570  405.2588   \n",
       "1          ARE             AS               90.500000  427.4827  433.5423   \n",
       "2          ARG             SA               68.043064  409.0333  425.3031   \n",
       "3          AUS             OC               84.560519  493.8962  502.9006   \n",
       "4          AUT             EU               83.940142  496.7423  484.8656   \n",
       "\n",
       "    Science  \n",
       "0  427.2250  \n",
       "1  436.7311  \n",
       "2  432.2262  \n",
       "3  509.9939  \n",
       "4  495.0375  "
      ]
     },
     "execution_count": 235,
     "metadata": {},
     "output_type": "execute_result"
    }
   ],
   "source": [
    "e_3.head()"
   ]
  },
  {
   "cell_type": "code",
   "execution_count": 237,
   "metadata": {},
   "outputs": [
    {
     "data": {
      "text/plain": [
       "Country Code              0\n",
       "Continent_Code            5\n",
       "internet_users_per_100    0\n",
       "Math                      0\n",
       "Reading                   0\n",
       "Science                   0\n",
       "dtype: int64"
      ]
     },
     "execution_count": 237,
     "metadata": {},
     "output_type": "execute_result"
    }
   ],
   "source": [
    "e_3.isnull().sum()"
   ]
  },
  {
   "cell_type": "code",
   "execution_count": 239,
   "metadata": {},
   "outputs": [],
   "source": [
    "# e_3.dropna(inplace=True)"
   ]
  },
  {
   "cell_type": "code",
   "execution_count": 240,
   "metadata": {},
   "outputs": [
    {
     "data": {
      "text/html": [
       "<div>\n",
       "<style scoped>\n",
       "    .dataframe tbody tr th:only-of-type {\n",
       "        vertical-align: middle;\n",
       "    }\n",
       "\n",
       "    .dataframe tbody tr th {\n",
       "        vertical-align: top;\n",
       "    }\n",
       "\n",
       "    .dataframe thead th {\n",
       "        text-align: right;\n",
       "    }\n",
       "</style>\n",
       "<table border=\"1\" class=\"dataframe\">\n",
       "  <thead>\n",
       "    <tr style=\"text-align: right;\">\n",
       "      <th></th>\n",
       "      <th>internet_users_per_100</th>\n",
       "      <th>Math</th>\n",
       "      <th>Reading</th>\n",
       "      <th>Science</th>\n",
       "    </tr>\n",
       "  </thead>\n",
       "  <tbody>\n",
       "    <tr>\n",
       "      <th>count</th>\n",
       "      <td>65.000000</td>\n",
       "      <td>65.000000</td>\n",
       "      <td>65.000000</td>\n",
       "      <td>65.000000</td>\n",
       "    </tr>\n",
       "    <tr>\n",
       "      <th>mean</th>\n",
       "      <td>72.364354</td>\n",
       "      <td>463.796218</td>\n",
       "      <td>462.118551</td>\n",
       "      <td>467.535888</td>\n",
       "    </tr>\n",
       "    <tr>\n",
       "      <th>std</th>\n",
       "      <td>16.570118</td>\n",
       "      <td>51.293822</td>\n",
       "      <td>48.443166</td>\n",
       "      <td>45.762751</td>\n",
       "    </tr>\n",
       "    <tr>\n",
       "      <th>min</th>\n",
       "      <td>21.976068</td>\n",
       "      <td>359.606200</td>\n",
       "      <td>346.549000</td>\n",
       "      <td>375.745100</td>\n",
       "    </tr>\n",
       "    <tr>\n",
       "      <th>25%</th>\n",
       "      <td>63.306625</td>\n",
       "      <td>417.991900</td>\n",
       "      <td>427.141000</td>\n",
       "      <td>427.997800</td>\n",
       "    </tr>\n",
       "    <tr>\n",
       "      <th>50%</th>\n",
       "      <td>73.098700</td>\n",
       "      <td>478.644800</td>\n",
       "      <td>481.439100</td>\n",
       "      <td>475.408900</td>\n",
       "    </tr>\n",
       "    <tr>\n",
       "      <th>75%</th>\n",
       "      <td>85.052900</td>\n",
       "      <td>501.729800</td>\n",
       "      <td>499.814600</td>\n",
       "      <td>502.575100</td>\n",
       "    </tr>\n",
       "    <tr>\n",
       "      <th>max</th>\n",
       "      <td>98.200000</td>\n",
       "      <td>564.189700</td>\n",
       "      <td>535.100200</td>\n",
       "      <td>555.574700</td>\n",
       "    </tr>\n",
       "  </tbody>\n",
       "</table>\n",
       "</div>"
      ],
      "text/plain": [
       "       internet_users_per_100        Math     Reading     Science\n",
       "count               65.000000   65.000000   65.000000   65.000000\n",
       "mean                72.364354  463.796218  462.118551  467.535888\n",
       "std                 16.570118   51.293822   48.443166   45.762751\n",
       "min                 21.976068  359.606200  346.549000  375.745100\n",
       "25%                 63.306625  417.991900  427.141000  427.997800\n",
       "50%                 73.098700  478.644800  481.439100  475.408900\n",
       "75%                 85.052900  501.729800  499.814600  502.575100\n",
       "max                 98.200000  564.189700  535.100200  555.574700"
      ]
     },
     "execution_count": 240,
     "metadata": {},
     "output_type": "execute_result"
    }
   ],
   "source": [
    "e_3.describe()"
   ]
  },
  {
   "cell_type": "code",
   "execution_count": 253,
   "metadata": {},
   "outputs": [
    {
     "data": {
      "text/html": [
       "<div>\n",
       "<style scoped>\n",
       "    .dataframe tbody tr th:only-of-type {\n",
       "        vertical-align: middle;\n",
       "    }\n",
       "\n",
       "    .dataframe tbody tr th {\n",
       "        vertical-align: top;\n",
       "    }\n",
       "\n",
       "    .dataframe thead tr th {\n",
       "        text-align: left;\n",
       "    }\n",
       "\n",
       "    .dataframe thead tr:last-of-type th {\n",
       "        text-align: right;\n",
       "    }\n",
       "</style>\n",
       "<table border=\"1\" class=\"dataframe\">\n",
       "  <thead>\n",
       "    <tr>\n",
       "      <th></th>\n",
       "      <th colspan=\"4\" halign=\"left\">internet_users_per_100</th>\n",
       "      <th colspan=\"4\" halign=\"left\">Math</th>\n",
       "      <th colspan=\"4\" halign=\"left\">Reading</th>\n",
       "      <th colspan=\"4\" halign=\"left\">Science</th>\n",
       "    </tr>\n",
       "    <tr>\n",
       "      <th></th>\n",
       "      <th>count</th>\n",
       "      <th>mean</th>\n",
       "      <th>median</th>\n",
       "      <th>std</th>\n",
       "      <th>count</th>\n",
       "      <th>mean</th>\n",
       "      <th>median</th>\n",
       "      <th>std</th>\n",
       "      <th>count</th>\n",
       "      <th>mean</th>\n",
       "      <th>median</th>\n",
       "      <th>std</th>\n",
       "      <th>count</th>\n",
       "      <th>mean</th>\n",
       "      <th>median</th>\n",
       "      <th>std</th>\n",
       "    </tr>\n",
       "    <tr>\n",
       "      <th>Continent_Code</th>\n",
       "      <th></th>\n",
       "      <th></th>\n",
       "      <th></th>\n",
       "      <th></th>\n",
       "      <th></th>\n",
       "      <th></th>\n",
       "      <th></th>\n",
       "      <th></th>\n",
       "      <th></th>\n",
       "      <th></th>\n",
       "      <th></th>\n",
       "      <th></th>\n",
       "      <th></th>\n",
       "      <th></th>\n",
       "      <th></th>\n",
       "      <th></th>\n",
       "    </tr>\n",
       "  </thead>\n",
       "  <tbody>\n",
       "    <tr>\n",
       "      <th>AF</th>\n",
       "      <td>2</td>\n",
       "      <td>43.359918</td>\n",
       "      <td>43.359918</td>\n",
       "      <td>7.297226</td>\n",
       "      <td>2</td>\n",
       "      <td>363.212100</td>\n",
       "      <td>363.21210</td>\n",
       "      <td>5.099513</td>\n",
       "      <td>2</td>\n",
       "      <td>355.457400</td>\n",
       "      <td>355.45740</td>\n",
       "      <td>7.916909</td>\n",
       "      <td>2</td>\n",
       "      <td>381.074250</td>\n",
       "      <td>381.07425</td>\n",
       "      <td>7.536556</td>\n",
       "    </tr>\n",
       "    <tr>\n",
       "      <th>AS</th>\n",
       "      <td>17</td>\n",
       "      <td>68.455613</td>\n",
       "      <td>74.000000</td>\n",
       "      <td>21.086060</td>\n",
       "      <td>17</td>\n",
       "      <td>466.216647</td>\n",
       "      <td>459.81600</td>\n",
       "      <td>64.356490</td>\n",
       "      <td>17</td>\n",
       "      <td>454.059682</td>\n",
       "      <td>433.54230</td>\n",
       "      <td>57.048962</td>\n",
       "      <td>17</td>\n",
       "      <td>467.945847</td>\n",
       "      <td>456.48360</td>\n",
       "      <td>56.671371</td>\n",
       "    </tr>\n",
       "    <tr>\n",
       "      <th>EU</th>\n",
       "      <td>37</td>\n",
       "      <td>77.274888</td>\n",
       "      <td>76.184000</td>\n",
       "      <td>12.425773</td>\n",
       "      <td>37</td>\n",
       "      <td>477.981449</td>\n",
       "      <td>489.72870</td>\n",
       "      <td>35.150403</td>\n",
       "      <td>37</td>\n",
       "      <td>476.164608</td>\n",
       "      <td>487.25010</td>\n",
       "      <td>37.720545</td>\n",
       "      <td>37</td>\n",
       "      <td>478.299381</td>\n",
       "      <td>490.22500</td>\n",
       "      <td>34.450616</td>\n",
       "    </tr>\n",
       "    <tr>\n",
       "      <th>OC</th>\n",
       "      <td>2</td>\n",
       "      <td>86.391704</td>\n",
       "      <td>86.391704</td>\n",
       "      <td>2.589686</td>\n",
       "      <td>2</td>\n",
       "      <td>494.559750</td>\n",
       "      <td>494.55975</td>\n",
       "      <td>0.938401</td>\n",
       "      <td>2</td>\n",
       "      <td>506.085650</td>\n",
       "      <td>506.08565</td>\n",
       "      <td>4.504341</td>\n",
       "      <td>2</td>\n",
       "      <td>511.648700</td>\n",
       "      <td>511.64870</td>\n",
       "      <td>2.340241</td>\n",
       "    </tr>\n",
       "    <tr>\n",
       "      <th>SA</th>\n",
       "      <td>7</td>\n",
       "      <td>60.180494</td>\n",
       "      <td>64.289000</td>\n",
       "      <td>9.772455</td>\n",
       "      <td>7</td>\n",
       "      <td>402.887700</td>\n",
       "      <td>409.03330</td>\n",
       "      <td>18.128894</td>\n",
       "      <td>7</td>\n",
       "      <td>425.359229</td>\n",
       "      <td>425.30310</td>\n",
       "      <td>19.709688</td>\n",
       "      <td>7</td>\n",
       "      <td>421.747186</td>\n",
       "      <td>424.59050</td>\n",
       "      <td>18.470319</td>\n",
       "    </tr>\n",
       "  </tbody>\n",
       "</table>\n",
       "</div>"
      ],
      "text/plain": [
       "               internet_users_per_100                                   Math  \\\n",
       "                                count       mean     median        std count   \n",
       "Continent_Code                                                                 \n",
       "AF                                  2  43.359918  43.359918   7.297226     2   \n",
       "AS                                 17  68.455613  74.000000  21.086060    17   \n",
       "EU                                 37  77.274888  76.184000  12.425773    37   \n",
       "OC                                  2  86.391704  86.391704   2.589686     2   \n",
       "SA                                  7  60.180494  64.289000   9.772455     7   \n",
       "\n",
       "                                                 Reading              \\\n",
       "                      mean     median        std   count        mean   \n",
       "Continent_Code                                                         \n",
       "AF              363.212100  363.21210   5.099513       2  355.457400   \n",
       "AS              466.216647  459.81600  64.356490      17  454.059682   \n",
       "EU              477.981449  489.72870  35.150403      37  476.164608   \n",
       "OC              494.559750  494.55975   0.938401       2  506.085650   \n",
       "SA              402.887700  409.03330  18.128894       7  425.359229   \n",
       "\n",
       "                                     Science                                    \n",
       "                   median        std   count        mean     median        std  \n",
       "Continent_Code                                                                  \n",
       "AF              355.45740   7.916909       2  381.074250  381.07425   7.536556  \n",
       "AS              433.54230  57.048962      17  467.945847  456.48360  56.671371  \n",
       "EU              487.25010  37.720545      37  478.299381  490.22500  34.450616  \n",
       "OC              506.08565   4.504341       2  511.648700  511.64870   2.340241  \n",
       "SA              425.30310  19.709688       7  421.747186  424.59050  18.470319  "
      ]
     },
     "execution_count": 253,
     "metadata": {},
     "output_type": "execute_result"
    }
   ],
   "source": [
    "e_3.groupby(\"Continent_Code\").agg([\"count\",\"mean\",\"median\",\"std\"])"
   ]
  },
  {
   "cell_type": "code",
   "execution_count": 265,
   "metadata": {},
   "outputs": [
    {
     "data": {
      "text/plain": [
       "0     413.1570\n",
       "4     496.7423\n",
       "5     506.9844\n",
       "6     441.1899\n",
       "9     521.2506\n",
       "14    437.1443\n",
       "15    492.3254\n",
       "16    505.9713\n",
       "17    511.0876\n",
       "20    485.8432\n",
       "21    519.5291\n",
       "22    511.0769\n",
       "23    492.9204\n",
       "24    492.4785\n",
       "26    453.6299\n",
       "28    464.0401\n",
       "29    476.8309\n",
       "31    503.7220\n",
       "32    488.0332\n",
       "34    489.7287\n",
       "40    478.3834\n",
       "41    485.7706\n",
       "42    482.3051\n",
       "44    419.6635\n",
       "46    371.3114\n",
       "47    478.6448\n",
       "48    417.9341\n",
       "50    512.2528\n",
       "51    501.7298\n",
       "54    504.4693\n",
       "55    491.6270\n",
       "57    443.9543\n",
       "58    494.0600\n",
       "60    475.2301\n",
       "61    509.9196\n",
       "62    493.9181\n",
       "66    420.4540\n",
       "Name: Math, dtype: float64"
      ]
     },
     "execution_count": 265,
     "metadata": {},
     "output_type": "execute_result"
    }
   ],
   "source": [
    "math_EU = e_3.Math[e_3.Continent_Code == \"EU\"]\n",
    "math_EU"
   ]
  },
  {
   "cell_type": "code",
   "execution_count": 266,
   "metadata": {},
   "outputs": [
    {
     "data": {
      "text/plain": [
       "1     427.4827\n",
       "11    531.2961\n",
       "25    403.8332\n",
       "27    547.9310\n",
       "30    386.1096\n",
       "33    469.6695\n",
       "35    380.2590\n",
       "36    532.4399\n",
       "37    459.8160\n",
       "38    524.1062\n",
       "39    396.2497\n",
       "43    543.8078\n",
       "49    446.1098\n",
       "56    402.4007\n",
       "59    564.1897\n",
       "63    415.4638\n",
       "69    494.5183\n",
       "Name: Math, dtype: float64"
      ]
     },
     "execution_count": 266,
     "metadata": {},
     "output_type": "execute_result"
    }
   ],
   "source": [
    "math_AS = e_3.Math[e_3.Continent_Code == \"AS\"]\n",
    "math_AS"
   ]
  },
  {
   "cell_type": "code",
   "execution_count": 263,
   "metadata": {},
   "outputs": [
    {
     "data": {
      "text/plain": [
       "37"
      ]
     },
     "execution_count": 263,
     "metadata": {},
     "output_type": "execute_result"
    }
   ],
   "source": [
    "e_3.Math[e_3.Continent_Code == \"EU\"].count()"
   ]
  },
  {
   "cell_type": "code",
   "execution_count": 262,
   "metadata": {},
   "outputs": [
    {
     "data": {
      "text/plain": [
       "17"
      ]
     },
     "execution_count": 262,
     "metadata": {},
     "output_type": "execute_result"
    }
   ],
   "source": [
    "e_3.Math[e_3.Continent_Code == \"AS\"].count()"
   ]
  },
  {
   "cell_type": "code",
   "execution_count": 267,
   "metadata": {},
   "outputs": [
    {
     "data": {
      "text/plain": [
       "Ttest_indResult(statistic=0.870055317967983, pvalue=0.38826888111307345)"
      ]
     },
     "execution_count": 267,
     "metadata": {},
     "output_type": "execute_result"
    }
   ],
   "source": [
    "oneSamp3 = stats.ttest_ind(math_EU, math_AS)\n",
    "oneSamp3"
   ]
  },
  {
   "cell_type": "markdown",
   "metadata": {},
   "source": [
    "EXERCISE 4.The sample dataset has placement test scores (out of 100 points) for four subject areas: English, Reading, Math, and Writing. Students in the sample completed all 4 placement tests when they enrolled in the university. Suppose we are particularly interested in the English and Math sections, and want to determine whether students tended to score higher on their English or Math test, on average. We could use a paired t test to test if there was a significant difference in the average of the two tests.\n",
    "\n",
    "Sample Dataset 2014\n",
    "\n",
    "CHECK: statistic=36.312568981719856, pvalue=3.0710987192210606e-128"
   ]
  }
 ],
 "metadata": {
  "interpreter": {
   "hash": "df9803d5d1b6cb5abc1edc30c69a1153e23b31bf85805cdabf595a077425259e"
  },
  "kernelspec": {
   "display_name": "Python 3.9.5 64-bit",
   "language": "python",
   "name": "python3"
  },
  "language_info": {
   "codemirror_mode": {
    "name": "ipython",
    "version": 3
   },
   "file_extension": ".py",
   "mimetype": "text/x-python",
   "name": "python",
   "nbconvert_exporter": "python",
   "pygments_lexer": "ipython3",
   "version": "3.9.5"
  },
  "orig_nbformat": 4
 },
 "nbformat": 4,
 "nbformat_minor": 2
}
